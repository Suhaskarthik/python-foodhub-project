{
  "cells": [
    {
      "cell_type": "markdown",
      "metadata": {
        "id": "Gc8x8QimJY_H"
      },
      "source": [
        "<center><p float=\"center\">\n",
        "  <img src=\"https://upload.wikimedia.org/wikipedia/commons/e/e9/4_RGB_McCombs_School_Brand_Branded.png\" width=\"300\" height=\"100\"/>\n",
        "  <img src=\"https://mma.prnewswire.com/media/1458111/Great_Learning_Logo.jpg?p=facebook\" width=\"200\" height=\"100\"/>\n",
        "</p></center>\n",
        "\n",
        "# Project Python Foundations: FoodHub Data Analysis\n",
        "\n",
        "**Marks: 60**"
      ]
    },
    {
      "cell_type": "markdown",
      "metadata": {
        "id": "NqikjkWwJY_L"
      },
      "source": [
        "### Context\n",
        "\n",
        "The number of restaurants in New York is increasing day by day. Lots of students and busy professionals rely on those restaurants due to their hectic lifestyles. Online food delivery service is a great option for them. It provides them with good food from their favorite restaurants. A food aggregator company FoodHub offers access to multiple restaurants through a single smartphone app.\n",
        "\n",
        "The app allows the restaurants to receive a direct online order from a customer. The app assigns a delivery person from the company to pick up the order after it is confirmed by the restaurant. The delivery person then uses the map to reach the restaurant and waits for the food package. Once the food package is handed over to the delivery person, he/she confirms the pick-up in the app and travels to the customer's location to deliver the food. The delivery person confirms the drop-off in the app after delivering the food package to the customer. The customer can rate the order in the app. The food aggregator earns money by collecting a fixed margin of the delivery order from the restaurants.\n",
        "\n",
        "### Objective\n",
        "\n",
        "The food aggregator company has stored the data of the different orders made by the registered customers in their online portal. They want to analyze the data to get a fair idea about the demand of different restaurants which will help them in enhancing their customer experience. Suppose you are hired as a Data Scientist in this company and the Data Science team has shared some of the key questions that need to be answered. Perform the data analysis to find answers to these questions that will help the company to improve the business. \n",
        "\n",
        "### Data Description\n",
        "\n",
        "The data contains the different data related to a food order. The detailed data dictionary is given below.\n",
        "\n",
        "### Data Dictionary\n",
        "\n",
        "* order_id: Unique ID of the order\n",
        "* customer_id: ID of the customer who ordered the food\n",
        "* restaurant_name: Name of the restaurant\n",
        "* cuisine_type: Cuisine ordered by the customer\n",
        "* cost: Cost of the order\n",
        "* day_of_the_week: Indicates whether the order is placed on a weekday or weekend (The weekday is from Monday to Friday and the weekend is Saturday and Sunday)\n",
        "* rating: Rating given by the customer out of 5\n",
        "* food_preparation_time: Time (in minutes) taken by the restaurant to prepare the food. This is calculated by taking the difference between the timestamps of the restaurant's order confirmation and the delivery person's pick-up confirmation.\n",
        "* delivery_time: Time (in minutes) taken by the delivery person to deliver the food package. This is calculated by taking the difference between the timestamps of the delivery person's pick-up confirmation and drop-off information"
      ]
    },
    {
      "cell_type": "markdown",
      "metadata": {
        "id": "cEtNUxNAJY_M"
      },
      "source": [
        "### Let us start by importing the required libraries"
      ]
    },
    {
      "cell_type": "code",
      "execution_count": 2,
      "metadata": {
        "id": "u6PlpJAPJY_N"
      },
      "outputs": [],
      "source": [
        "# import libraries for data manipulation\n",
        "import numpy as np\n",
        "import pandas as pd\n",
        "\n",
        "# import libraries for data visualization\n",
        "import matplotlib.pyplot as plt\n",
        "import seaborn as sns"
      ]
    },
    {
      "cell_type": "markdown",
      "metadata": {
        "id": "AdracY0HJY_O"
      },
      "source": [
        "### Understanding the structure of the data"
      ]
    },
    {
      "cell_type": "code",
      "execution_count": null,
      "metadata": {
        "id": "WBh2ZGB9kFhU"
      },
      "outputs": [],
      "source": [
        "# uncomment and run the following lines for Google Colab\n",
        "# from google.colab import drive\n",
        "# drive.mount('/content/drive')"
      ]
    },
    {
      "cell_type": "code",
      "execution_count": 4,
      "metadata": {
        "id": "GF01IZDbJY_O",
        "scrolled": true
      },
      "outputs": [
        {
          "data": {
            "text/html": [
              "<div>\n",
              "<style scoped>\n",
              "    .dataframe tbody tr th:only-of-type {\n",
              "        vertical-align: middle;\n",
              "    }\n",
              "\n",
              "    .dataframe tbody tr th {\n",
              "        vertical-align: top;\n",
              "    }\n",
              "\n",
              "    .dataframe thead th {\n",
              "        text-align: right;\n",
              "    }\n",
              "</style>\n",
              "<table border=\"1\" class=\"dataframe\">\n",
              "  <thead>\n",
              "    <tr style=\"text-align: right;\">\n",
              "      <th></th>\n",
              "      <th>order_id</th>\n",
              "      <th>customer_id</th>\n",
              "      <th>restaurant_name</th>\n",
              "      <th>cuisine_type</th>\n",
              "      <th>cost_of_the_order</th>\n",
              "      <th>day_of_the_week</th>\n",
              "      <th>rating</th>\n",
              "      <th>food_preparation_time</th>\n",
              "      <th>delivery_time</th>\n",
              "    </tr>\n",
              "  </thead>\n",
              "  <tbody>\n",
              "    <tr>\n",
              "      <th>0</th>\n",
              "      <td>1477147</td>\n",
              "      <td>337525</td>\n",
              "      <td>Hangawi</td>\n",
              "      <td>Korean</td>\n",
              "      <td>30.75</td>\n",
              "      <td>Weekend</td>\n",
              "      <td>Not given</td>\n",
              "      <td>25</td>\n",
              "      <td>20</td>\n",
              "    </tr>\n",
              "    <tr>\n",
              "      <th>1</th>\n",
              "      <td>1477685</td>\n",
              "      <td>358141</td>\n",
              "      <td>Blue Ribbon Sushi Izakaya</td>\n",
              "      <td>Japanese</td>\n",
              "      <td>12.08</td>\n",
              "      <td>Weekend</td>\n",
              "      <td>Not given</td>\n",
              "      <td>25</td>\n",
              "      <td>23</td>\n",
              "    </tr>\n",
              "    <tr>\n",
              "      <th>2</th>\n",
              "      <td>1477070</td>\n",
              "      <td>66393</td>\n",
              "      <td>Cafe Habana</td>\n",
              "      <td>Mexican</td>\n",
              "      <td>12.23</td>\n",
              "      <td>Weekday</td>\n",
              "      <td>5</td>\n",
              "      <td>23</td>\n",
              "      <td>28</td>\n",
              "    </tr>\n",
              "    <tr>\n",
              "      <th>3</th>\n",
              "      <td>1477334</td>\n",
              "      <td>106968</td>\n",
              "      <td>Blue Ribbon Fried Chicken</td>\n",
              "      <td>American</td>\n",
              "      <td>29.20</td>\n",
              "      <td>Weekend</td>\n",
              "      <td>3</td>\n",
              "      <td>25</td>\n",
              "      <td>15</td>\n",
              "    </tr>\n",
              "    <tr>\n",
              "      <th>4</th>\n",
              "      <td>1478249</td>\n",
              "      <td>76942</td>\n",
              "      <td>Dirty Bird to Go</td>\n",
              "      <td>American</td>\n",
              "      <td>11.59</td>\n",
              "      <td>Weekday</td>\n",
              "      <td>4</td>\n",
              "      <td>25</td>\n",
              "      <td>24</td>\n",
              "    </tr>\n",
              "  </tbody>\n",
              "</table>\n",
              "</div>"
            ],
            "text/plain": [
              "   order_id  customer_id            restaurant_name cuisine_type  \\\n",
              "0   1477147       337525                    Hangawi       Korean   \n",
              "1   1477685       358141  Blue Ribbon Sushi Izakaya     Japanese   \n",
              "2   1477070        66393                Cafe Habana      Mexican   \n",
              "3   1477334       106968  Blue Ribbon Fried Chicken     American   \n",
              "4   1478249        76942           Dirty Bird to Go     American   \n",
              "\n",
              "   cost_of_the_order day_of_the_week     rating  food_preparation_time  \\\n",
              "0              30.75         Weekend  Not given                     25   \n",
              "1              12.08         Weekend  Not given                     25   \n",
              "2              12.23         Weekday          5                     23   \n",
              "3              29.20         Weekend          3                     25   \n",
              "4              11.59         Weekday          4                     25   \n",
              "\n",
              "   delivery_time  \n",
              "0             20  \n",
              "1             23  \n",
              "2             28  \n",
              "3             15  \n",
              "4             24  "
            ]
          },
          "execution_count": 4,
          "metadata": {},
          "output_type": "execute_result"
        }
      ],
      "source": [
        "# read the data\n",
        "df = pd.read_csv('data/foodhub_order.csv')\n",
        "# returns the first 5 rows\n",
        "df.head()"
      ]
    },
    {
      "cell_type": "markdown",
      "metadata": {
        "id": "J_Y9aJDJJY_P"
      },
      "source": [
        "#### Observations:\n",
        "\n",
        "The DataFrame has 9 columns as mentioned in the Data Dictionary. Data in each row corresponds to the order placed by a customer."
      ]
    },
    {
      "cell_type": "markdown",
      "metadata": {
        "id": "c3kenV4vJY_Q"
      },
      "source": [
        "### **Question 1:** How many rows and columns are present in the data? [0.5 mark]"
      ]
    },
    {
      "cell_type": "code",
      "execution_count": 5,
      "metadata": {
        "id": "Yvz5i-PhJY_Q"
      },
      "outputs": [
        {
          "data": {
            "text/plain": [
              "(1898, 9)"
            ]
          },
          "execution_count": 5,
          "metadata": {},
          "output_type": "execute_result"
        }
      ],
      "source": [
        "# Write your code here\n",
        "df.shape"
      ]
    },
    {
      "cell_type": "markdown",
      "metadata": {
        "id": "UsTNy3unJY_R"
      },
      "source": [
        "#### Observations:\n"
      ]
    },
    {
      "cell_type": "markdown",
      "metadata": {
        "id": "jRXakVrUJY_R"
      },
      "source": [
        "### **Question 2:** What are the datatypes of the different columns in the dataset? (The info() function can be used) [0.5 mark]"
      ]
    },
    {
      "cell_type": "code",
      "execution_count": 6,
      "metadata": {
        "id": "Kp70Z0BNJY_R"
      },
      "outputs": [
        {
          "name": "stdout",
          "output_type": "stream",
          "text": [
            "<class 'pandas.core.frame.DataFrame'>\n",
            "RangeIndex: 1898 entries, 0 to 1897\n",
            "Data columns (total 9 columns):\n",
            " #   Column                 Non-Null Count  Dtype  \n",
            "---  ------                 --------------  -----  \n",
            " 0   order_id               1898 non-null   int64  \n",
            " 1   customer_id            1898 non-null   int64  \n",
            " 2   restaurant_name        1898 non-null   object \n",
            " 3   cuisine_type           1898 non-null   object \n",
            " 4   cost_of_the_order      1898 non-null   float64\n",
            " 5   day_of_the_week        1898 non-null   object \n",
            " 6   rating                 1898 non-null   object \n",
            " 7   food_preparation_time  1898 non-null   int64  \n",
            " 8   delivery_time          1898 non-null   int64  \n",
            "dtypes: float64(1), int64(4), object(4)\n",
            "memory usage: 133.6+ KB\n"
          ]
        }
      ],
      "source": [
        "# Use info() to print a concise summary of the DataFrame\n",
        "df.info()"
      ]
    },
    {
      "cell_type": "markdown",
      "metadata": {
        "id": "WJes5GP2JY_S"
      },
      "source": [
        "#### Observations:\n"
      ]
    },
    {
      "cell_type": "markdown",
      "metadata": {
        "id": "pF_92MN6JY_S"
      },
      "source": [
        "### **Question 3:** Are there any missing values in the data? If yes, treat them using an appropriate method. [1 mark]"
      ]
    },
    {
      "cell_type": "code",
      "execution_count": 7,
      "metadata": {
        "id": "Zth-RR1PJY_S"
      },
      "outputs": [
        {
          "data": {
            "text/plain": [
              "order_id                 0\n",
              "customer_id              0\n",
              "restaurant_name          0\n",
              "cuisine_type             0\n",
              "cost_of_the_order        0\n",
              "day_of_the_week          0\n",
              "rating                   0\n",
              "food_preparation_time    0\n",
              "delivery_time            0\n",
              "dtype: int64"
            ]
          },
          "execution_count": 7,
          "metadata": {},
          "output_type": "execute_result"
        }
      ],
      "source": [
        "# Write your code here\n",
        "df.isnull().sum()"
      ]
    },
    {
      "cell_type": "markdown",
      "metadata": {
        "id": "jDHT3vD1JY_S"
      },
      "source": [
        "#### Observations:\n"
      ]
    },
    {
      "cell_type": "markdown",
      "metadata": {
        "id": "MnJo7MWrJY_S"
      },
      "source": [
        "### **Question 4:** Check the statistical summary of the data. What is the minimum, average, and maximum time it takes for food to be prepared once an order is placed? [2 marks]"
      ]
    },
    {
      "cell_type": "code",
      "execution_count": 8,
      "metadata": {
        "id": "WprQBgOSJY_T"
      },
      "outputs": [
        {
          "data": {
            "text/html": [
              "<div>\n",
              "<style scoped>\n",
              "    .dataframe tbody tr th:only-of-type {\n",
              "        vertical-align: middle;\n",
              "    }\n",
              "\n",
              "    .dataframe tbody tr th {\n",
              "        vertical-align: top;\n",
              "    }\n",
              "\n",
              "    .dataframe thead th {\n",
              "        text-align: right;\n",
              "    }\n",
              "</style>\n",
              "<table border=\"1\" class=\"dataframe\">\n",
              "  <thead>\n",
              "    <tr style=\"text-align: right;\">\n",
              "      <th></th>\n",
              "      <th>count</th>\n",
              "      <th>unique</th>\n",
              "      <th>top</th>\n",
              "      <th>freq</th>\n",
              "      <th>mean</th>\n",
              "      <th>std</th>\n",
              "      <th>min</th>\n",
              "      <th>25%</th>\n",
              "      <th>50%</th>\n",
              "      <th>75%</th>\n",
              "      <th>max</th>\n",
              "    </tr>\n",
              "  </thead>\n",
              "  <tbody>\n",
              "    <tr>\n",
              "      <th>order_id</th>\n",
              "      <td>1898.0</td>\n",
              "      <td>NaN</td>\n",
              "      <td>NaN</td>\n",
              "      <td>NaN</td>\n",
              "      <td>1477495.5</td>\n",
              "      <td>548.049724</td>\n",
              "      <td>1476547.0</td>\n",
              "      <td>1477021.25</td>\n",
              "      <td>1477495.5</td>\n",
              "      <td>1477969.75</td>\n",
              "      <td>1478444.0</td>\n",
              "    </tr>\n",
              "    <tr>\n",
              "      <th>customer_id</th>\n",
              "      <td>1898.0</td>\n",
              "      <td>NaN</td>\n",
              "      <td>NaN</td>\n",
              "      <td>NaN</td>\n",
              "      <td>171168.478398</td>\n",
              "      <td>113698.139743</td>\n",
              "      <td>1311.0</td>\n",
              "      <td>77787.75</td>\n",
              "      <td>128600.0</td>\n",
              "      <td>270525.0</td>\n",
              "      <td>405334.0</td>\n",
              "    </tr>\n",
              "    <tr>\n",
              "      <th>restaurant_name</th>\n",
              "      <td>1898</td>\n",
              "      <td>178</td>\n",
              "      <td>Shake Shack</td>\n",
              "      <td>219</td>\n",
              "      <td>NaN</td>\n",
              "      <td>NaN</td>\n",
              "      <td>NaN</td>\n",
              "      <td>NaN</td>\n",
              "      <td>NaN</td>\n",
              "      <td>NaN</td>\n",
              "      <td>NaN</td>\n",
              "    </tr>\n",
              "    <tr>\n",
              "      <th>cuisine_type</th>\n",
              "      <td>1898</td>\n",
              "      <td>14</td>\n",
              "      <td>American</td>\n",
              "      <td>584</td>\n",
              "      <td>NaN</td>\n",
              "      <td>NaN</td>\n",
              "      <td>NaN</td>\n",
              "      <td>NaN</td>\n",
              "      <td>NaN</td>\n",
              "      <td>NaN</td>\n",
              "      <td>NaN</td>\n",
              "    </tr>\n",
              "    <tr>\n",
              "      <th>cost_of_the_order</th>\n",
              "      <td>1898.0</td>\n",
              "      <td>NaN</td>\n",
              "      <td>NaN</td>\n",
              "      <td>NaN</td>\n",
              "      <td>16.498851</td>\n",
              "      <td>7.483812</td>\n",
              "      <td>4.47</td>\n",
              "      <td>12.08</td>\n",
              "      <td>14.14</td>\n",
              "      <td>22.2975</td>\n",
              "      <td>35.41</td>\n",
              "    </tr>\n",
              "    <tr>\n",
              "      <th>day_of_the_week</th>\n",
              "      <td>1898</td>\n",
              "      <td>2</td>\n",
              "      <td>Weekend</td>\n",
              "      <td>1351</td>\n",
              "      <td>NaN</td>\n",
              "      <td>NaN</td>\n",
              "      <td>NaN</td>\n",
              "      <td>NaN</td>\n",
              "      <td>NaN</td>\n",
              "      <td>NaN</td>\n",
              "      <td>NaN</td>\n",
              "    </tr>\n",
              "    <tr>\n",
              "      <th>rating</th>\n",
              "      <td>1898</td>\n",
              "      <td>4</td>\n",
              "      <td>Not given</td>\n",
              "      <td>736</td>\n",
              "      <td>NaN</td>\n",
              "      <td>NaN</td>\n",
              "      <td>NaN</td>\n",
              "      <td>NaN</td>\n",
              "      <td>NaN</td>\n",
              "      <td>NaN</td>\n",
              "      <td>NaN</td>\n",
              "    </tr>\n",
              "    <tr>\n",
              "      <th>food_preparation_time</th>\n",
              "      <td>1898.0</td>\n",
              "      <td>NaN</td>\n",
              "      <td>NaN</td>\n",
              "      <td>NaN</td>\n",
              "      <td>27.37197</td>\n",
              "      <td>4.632481</td>\n",
              "      <td>20.0</td>\n",
              "      <td>23.0</td>\n",
              "      <td>27.0</td>\n",
              "      <td>31.0</td>\n",
              "      <td>35.0</td>\n",
              "    </tr>\n",
              "    <tr>\n",
              "      <th>delivery_time</th>\n",
              "      <td>1898.0</td>\n",
              "      <td>NaN</td>\n",
              "      <td>NaN</td>\n",
              "      <td>NaN</td>\n",
              "      <td>24.161749</td>\n",
              "      <td>4.972637</td>\n",
              "      <td>15.0</td>\n",
              "      <td>20.0</td>\n",
              "      <td>25.0</td>\n",
              "      <td>28.0</td>\n",
              "      <td>33.0</td>\n",
              "    </tr>\n",
              "  </tbody>\n",
              "</table>\n",
              "</div>"
            ],
            "text/plain": [
              "                        count unique          top  freq           mean  \\\n",
              "order_id               1898.0    NaN          NaN   NaN      1477495.5   \n",
              "customer_id            1898.0    NaN          NaN   NaN  171168.478398   \n",
              "restaurant_name          1898    178  Shake Shack   219            NaN   \n",
              "cuisine_type             1898     14     American   584            NaN   \n",
              "cost_of_the_order      1898.0    NaN          NaN   NaN      16.498851   \n",
              "day_of_the_week          1898      2      Weekend  1351            NaN   \n",
              "rating                   1898      4    Not given   736            NaN   \n",
              "food_preparation_time  1898.0    NaN          NaN   NaN       27.37197   \n",
              "delivery_time          1898.0    NaN          NaN   NaN      24.161749   \n",
              "\n",
              "                                 std        min         25%        50%  \\\n",
              "order_id                  548.049724  1476547.0  1477021.25  1477495.5   \n",
              "customer_id            113698.139743     1311.0    77787.75   128600.0   \n",
              "restaurant_name                  NaN        NaN         NaN        NaN   \n",
              "cuisine_type                     NaN        NaN         NaN        NaN   \n",
              "cost_of_the_order           7.483812       4.47       12.08      14.14   \n",
              "day_of_the_week                  NaN        NaN         NaN        NaN   \n",
              "rating                           NaN        NaN         NaN        NaN   \n",
              "food_preparation_time       4.632481       20.0        23.0       27.0   \n",
              "delivery_time               4.972637       15.0        20.0       25.0   \n",
              "\n",
              "                              75%        max  \n",
              "order_id               1477969.75  1478444.0  \n",
              "customer_id              270525.0   405334.0  \n",
              "restaurant_name               NaN        NaN  \n",
              "cuisine_type                  NaN        NaN  \n",
              "cost_of_the_order         22.2975      35.41  \n",
              "day_of_the_week               NaN        NaN  \n",
              "rating                        NaN        NaN  \n",
              "food_preparation_time        31.0       35.0  \n",
              "delivery_time                28.0       33.0  "
            ]
          },
          "execution_count": 8,
          "metadata": {},
          "output_type": "execute_result"
        }
      ],
      "source": [
        "# Write your code here\n",
        "df.describe(include='all').T"
      ]
    },
    {
      "cell_type": "markdown",
      "metadata": {
        "id": "9YbSOR5wJY_T"
      },
      "source": [
        "#### Observations:\n"
      ]
    },
    {
      "cell_type": "markdown",
      "metadata": {
        "id": "cw3l58z_JY_T"
      },
      "source": [
        "### **Question 5:** How many orders are not rated? [1 mark]"
      ]
    },
    {
      "cell_type": "code",
      "execution_count": 9,
      "metadata": {
        "id": "hEzDUL9wgksi"
      },
      "outputs": [
        {
          "data": {
            "text/plain": [
              "736"
            ]
          },
          "execution_count": 9,
          "metadata": {},
          "output_type": "execute_result"
        }
      ],
      "source": [
        "# Write the code here\n",
        "\n",
        "orders_not_rated = df[df['rating'] == 'Not given']['order_id'].count()\n",
        "\n",
        "orders_not_rated"
      ]
    },
    {
      "cell_type": "markdown",
      "metadata": {
        "id": "5E0O_oviJY_T"
      },
      "source": [
        "#### Observations:\n"
      ]
    },
    {
      "cell_type": "markdown",
      "metadata": {
        "id": "7msIfXE-JY_T"
      },
      "source": [
        "### Exploratory Data Analysis (EDA)"
      ]
    },
    {
      "cell_type": "markdown",
      "metadata": {
        "id": "-2xfI28YJY_T"
      },
      "source": [
        "### Univariate Analysis"
      ]
    },
    {
      "cell_type": "markdown",
      "metadata": {
        "id": "0RHZnugBJY_U"
      },
      "source": [
        "### **Question 6:** Explore all the variables and provide observations on their distributions. (Generally, histograms, boxplots, countplots, etc. are used for univariate exploration.) [9 marks]"
      ]
    },
    {
      "cell_type": "code",
      "execution_count": 20,
      "metadata": {
        "id": "rU5ZqISjJY_U"
      },
      "outputs": [
        {
          "data": {
            "image/png": "[encoded data removed]",
            "text/plain": [
              "<Figure size 640x480 with 1 Axes>"
            ]
          },
          "metadata": {},
          "output_type": "display_data"
        },
        {
          "data": {
            "image/png": "[encoded data removed]",
            "text/plain": [
              "<Figure size 640x480 with 1 Axes>"
            ]
          },
          "metadata": {},
          "output_type": "display_data"
        }
      ],
      "source": [
        "# Historgram of Cost of The Order\n",
        "sns.histplot(data=df,x='cost_of_the_order')\n",
        "plt.show()\n",
        "\n",
        "sns.boxplot(data=df,x='cost_of_the_order')\n",
        "plt.show()"
      ]
    },
    {
      "cell_type": "code",
      "execution_count": 21,
      "metadata": {},
      "outputs": [
        {
          "data": {
            "image/png": "[encoded data removed]",
            "text/plain": [
              "<Figure size 640x480 with 1 Axes>"
            ]
          },
          "metadata": {},
          "output_type": "display_data"
        },
        {
          "data": {
            "image/png": "[encoded data removed]",
            "text/plain": [
              "<Figure size 640x480 with 1 Axes>"
            ]
          },
          "metadata": {},
          "output_type": "display_data"
        }
      ],
      "source": [
        "# Historgram of Food Preparation Time\n",
        "sns.histplot(data=df,x='food_preparation_time')\n",
        "plt.show()\n",
        "\n",
        "sns.boxplot(data=df,x='food_preparation_time')\n",
        "plt.show()\n"
      ]
    },
    {
      "cell_type": "code",
      "execution_count": 22,
      "metadata": {},
      "outputs": [
        {
          "data": {
            "image/png": "[encoded data removed]",
            "text/plain": [
              "<Figure size 640x480 with 1 Axes>"
            ]
          },
          "metadata": {},
          "output_type": "display_data"
        },
        {
          "data": {
            "image/png": "[encoded data removed]",
            "text/plain": [
              "<Figure size 640x480 with 1 Axes>"
            ]
          },
          "metadata": {},
          "output_type": "display_data"
        }
      ],
      "source": [
        "# Historgram of Delivery Time\n",
        "sns.histplot(data=df,x='delivery_time')\n",
        "plt.show()\n",
        "\n",
        "sns.boxplot(data=df,x='delivery_time')\n",
        "plt.show()"
      ]
    },
    {
      "cell_type": "code",
      "execution_count": 26,
      "metadata": {},
      "outputs": [
        {
          "data": {
            "image/png": "[encoded data removed]",
            "text/plain": [
              "<Figure size 640x480 with 1 Axes>"
            ]
          },
          "metadata": {},
          "output_type": "display_data"
        }
      ],
      "source": [
        "# Historgram of Cuisine Type\n",
        "sns.countplot(data=df,x='cuisine_type')\n",
        "plt.xticks(rotation=90);"
      ]
    },
    {
      "cell_type": "code",
      "execution_count": 28,
      "metadata": {},
      "outputs": [
        {
          "data": {
            "image/png": "[encoded data removed]",
            "text/plain": [
              "<Figure size 640x480 with 1 Axes>"
            ]
          },
          "metadata": {},
          "output_type": "display_data"
        }
      ],
      "source": [
        "# Historgram of Day of the Week\n",
        "sns.countplot(data=df,x='day_of_the_week');"
      ]
    },
    {
      "cell_type": "code",
      "execution_count": 29,
      "metadata": {},
      "outputs": [
        {
          "data": {
            "image/png": "[encoded data removed]",
            "text/plain": [
              "<Figure size 640x480 with 1 Axes>"
            ]
          },
          "metadata": {},
          "output_type": "display_data"
        }
      ],
      "source": [
        "# Historgram of Rating\n",
        "sns.countplot(data=df,x='rating');"
      ]
    },
    {
      "cell_type": "markdown",
      "metadata": {
        "id": "K9CqA5H_JY_U"
      },
      "source": [
        "### **Question 7**: Which are the top 5 restaurants in terms of the number of orders received? [1 mark]"
      ]
    },
    {
      "cell_type": "code",
      "execution_count": 36,
      "metadata": {
        "id": "PaJZ3wlOJY_U"
      },
      "outputs": [
        {
          "data": {
            "text/plain": [
              "restaurant_name\n",
              "Shake Shack                  219\n",
              "The Meatball Shop            132\n",
              "Blue Ribbon Sushi            119\n",
              "Blue Ribbon Fried Chicken     96\n",
              "Parm                          68\n",
              "Name: count, dtype: int64"
            ]
          },
          "execution_count": 36,
          "metadata": {},
          "output_type": "execute_result"
        }
      ],
      "source": [
        "# Top 5 Restaurant per # of Orders\n",
        "top_restaurant = df['restaurant_name'].value_counts()\n",
        "\n",
        "top_restaurant.head(5)"
      ]
    },
    {
      "cell_type": "markdown",
      "metadata": {
        "id": "tnjhWgUfJY_U"
      },
      "source": [
        "#### Observations:\n"
      ]
    },
    {
      "cell_type": "markdown",
      "metadata": {
        "id": "gWPMqGq0JY_U"
      },
      "source": [
        "### **Question 8**: Which is the most popular cuisine on weekends? [1 mark]"
      ]
    },
    {
      "cell_type": "code",
      "execution_count": 50,
      "metadata": {
        "id": "c-Xnus3VJY_U"
      },
      "outputs": [
        {
          "data": {
            "text/plain": [
              "cuisine_type\n",
              "American    415\n",
              "Japanese    335\n",
              "Italian     207\n",
              "Chinese     163\n",
              "Mexican      53\n",
              "Name: count, dtype: int64"
            ]
          },
          "execution_count": 50,
          "metadata": {},
          "output_type": "execute_result"
        }
      ],
      "source": [
        "# Most Popular Cuisine on Weekends\n",
        "top_weekend_cuisines = df[df['day_of_the_week'] == 'Weekend']['cuisine_type'].value_counts()\n",
        "\n",
        "top_weekend_cuisines.head()"
      ]
    },
    {
      "cell_type": "markdown",
      "metadata": {
        "id": "bpQ270TUJY_U"
      },
      "source": [
        "#### Observations:\n"
      ]
    },
    {
      "cell_type": "markdown",
      "metadata": {
        "id": "88xgTqkxJY_U"
      },
      "source": [
        "### **Question 9**: What percentage of the orders cost more than 20 dollars? [2 marks]"
      ]
    },
    {
      "cell_type": "code",
      "execution_count": 75,
      "metadata": {
        "id": "OTpHyTdzJY_U"
      },
      "outputs": [
        {
          "data": {
            "text/plain": [
              "29.24130663856691"
            ]
          },
          "execution_count": 75,
          "metadata": {},
          "output_type": "execute_result"
        }
      ],
      "source": [
        "# Percentage of Orders Costing More Than 20 Dollars\n",
        "\n",
        "all_orders = len(df)\n",
        "\n",
        "orders_over_twenty = df[df['cost_of_the_order'] > 20.00]['cuisine_type'].count()\n",
        "\n",
        "percent_orders_over_twenty = (orders_over_twenty / all_orders) * 100\n",
        "\n",
        "percent_orders_over_twenty\n"
      ]
    },
    {
      "cell_type": "markdown",
      "metadata": {
        "id": "77KNAC5zJY_U"
      },
      "source": [
        "#### Observations:\n"
      ]
    },
    {
      "cell_type": "markdown",
      "metadata": {
        "id": "HFyHn7hsJY_V"
      },
      "source": [
        "### **Question 10**: What is the mean order delivery time? [1 mark]"
      ]
    },
    {
      "cell_type": "code",
      "execution_count": null,
      "metadata": {
        "id": "cyFL13hNJY_V"
      },
      "outputs": [],
      "source": [
        "# Mean Order Delivery Time\n"
      ]
    },
    {
      "cell_type": "markdown",
      "metadata": {
        "id": "F35SRV-HJY_V"
      },
      "source": [
        "#### Observations:\n"
      ]
    },
    {
      "cell_type": "markdown",
      "metadata": {
        "id": "48IjaOuDJY_V"
      },
      "source": [
        "### **Question 11:** The company has decided to give 20% discount vouchers to the top 5 most frequent customers. Find the IDs of these customers and the number of orders they placed. [1 mark]"
      ]
    },
    {
      "cell_type": "code",
      "execution_count": null,
      "metadata": {
        "id": "Hz8-DE4Zge0j"
      },
      "outputs": [],
      "source": [
        "# Write the code here"
      ]
    },
    {
      "cell_type": "markdown",
      "metadata": {
        "id": "9tWVwfX6JY_V"
      },
      "source": [
        "#### Observations:\n"
      ]
    },
    {
      "cell_type": "markdown",
      "metadata": {
        "id": "AfIc2jPaJY_V"
      },
      "source": [
        "### Multivariate Analysis"
      ]
    },
    {
      "cell_type": "markdown",
      "metadata": {
        "id": "iqiS0RT_JY_V"
      },
      "source": [
        "### **Question 12**: Perform a multivariate analysis to explore relationships between the important variables in the dataset. (It is a good idea to explore relations between numerical variables as well as relations between numerical and categorical variables) [10 marks]\n"
      ]
    },
    {
      "cell_type": "code",
      "execution_count": null,
      "metadata": {
        "id": "3qt4MCNTJY_V"
      },
      "outputs": [],
      "source": [
        "# Write the code here"
      ]
    },
    {
      "cell_type": "markdown",
      "metadata": {
        "id": "YLkMf09YJY_V"
      },
      "source": [
        "### **Question 13:** The company wants to provide a promotional offer in the advertisement of the restaurants. The condition to get the offer is that the restaurants must have a rating count of more than 50 and the average rating should be greater than 4. Find the restaurants fulfilling the criteria to get the promotional offer. [3 marks]"
      ]
    },
    {
      "cell_type": "code",
      "execution_count": null,
      "metadata": {
        "id": "0M_QDvbYJY_V"
      },
      "outputs": [],
      "source": [
        "# Write the code here"
      ]
    },
    {
      "cell_type": "markdown",
      "metadata": {
        "id": "10uryUMhJY_V"
      },
      "source": [
        "#### Observations:\n"
      ]
    },
    {
      "cell_type": "markdown",
      "metadata": {
        "id": "1gvWBkRUJY_V"
      },
      "source": [
        "### **Question 14:** The company charges the restaurant 25% on the orders having cost greater than 20 dollars and 15% on the orders having cost greater than 5 dollars. Find the net revenue generated by the company across all orders. [3 marks]"
      ]
    },
    {
      "cell_type": "code",
      "execution_count": null,
      "metadata": {
        "id": "rEjbnTNEJY_W"
      },
      "outputs": [],
      "source": [
        "# Write the code here"
      ]
    },
    {
      "cell_type": "markdown",
      "metadata": {
        "id": "XHCEJgH0JY_W"
      },
      "source": [
        "#### Observations:\n"
      ]
    },
    {
      "cell_type": "markdown",
      "metadata": {
        "id": "pRlVW-oeJY_W"
      },
      "source": [
        "### **Question 15:** The company wants to analyze the total time required to deliver the food. What percentage of orders take more than 60 minutes to get delivered from the time the order is placed? (The food has to be prepared and then delivered.) [2 marks]"
      ]
    },
    {
      "cell_type": "code",
      "execution_count": null,
      "metadata": {
        "id": "zxoTrxfLJY_W"
      },
      "outputs": [],
      "source": [
        "# Write the code here"
      ]
    },
    {
      "cell_type": "markdown",
      "metadata": {
        "id": "iqzBXn2yJY_W"
      },
      "source": [
        "#### Observations:\n"
      ]
    },
    {
      "cell_type": "markdown",
      "metadata": {
        "id": "bUd6cYpPJY_W"
      },
      "source": [
        "### **Question 16:** The company wants to analyze the delivery time of the orders on weekdays and weekends. How does the mean delivery time vary during weekdays and weekends? [2 marks]"
      ]
    },
    {
      "cell_type": "code",
      "execution_count": null,
      "metadata": {
        "id": "pIU5xZZ6JY_W"
      },
      "outputs": [],
      "source": [
        "# Write the code here"
      ]
    },
    {
      "cell_type": "markdown",
      "metadata": {
        "id": "8H-ODxbVJY_W"
      },
      "source": [
        "#### Observations:\n"
      ]
    },
    {
      "cell_type": "markdown",
      "metadata": {
        "id": "17roJywaJY_W"
      },
      "source": [
        "### Conclusion and Recommendations"
      ]
    },
    {
      "cell_type": "markdown",
      "metadata": {
        "id": "ZdX2Wz4FJY_W"
      },
      "source": [
        "### **Question 17:** What are your conclusions from the analysis? What recommendations would you like to share to help improve the business? (You can use cuisine type and feedback ratings to drive your business recommendations.) [6 marks]"
      ]
    },
    {
      "cell_type": "markdown",
      "metadata": {
        "id": "VTugVsL4Ddz-"
      },
      "source": [
        "### Conclusions:\n",
        "*  "
      ]
    },
    {
      "cell_type": "markdown",
      "metadata": {
        "id": "PWnsI0i_guWJ"
      },
      "source": [
        "### Recommendations:\n",
        "\n",
        "*  "
      ]
    },
    {
      "cell_type": "markdown",
      "metadata": {
        "id": "tSoucKKbg9Hc"
      },
      "source": [
        "---"
      ]
    }
  ],
  "metadata": {
    "colab": {
      "collapsed_sections": [],
      "name": "PYF_Project_LearnerNotebook_FullCode.ipynb",
      "provenance": []
    },
    "kernelspec": {
      "display_name": "Python 3 (ipykernel)",
      "language": "python",
      "name": "python3"
    },
    "language_info": {
      "codemirror_mode": {
        "name": "ipython",
        "version": 3
      },
      "file_extension": ".py",
      "mimetype": "text/x-python",
      "name": "python",
      "nbconvert_exporter": "python",
      "pygments_lexer": "ipython3",
      "version": "3.12.2"
    }
  },
  "nbformat": 4,
  "nbformat_minor": 0
}
